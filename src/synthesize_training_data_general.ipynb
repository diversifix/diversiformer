{
 "cells": [
  {
   "cell_type": "code",
   "execution_count": null,
   "metadata": {},
   "outputs": [],
   "source": [
    "import random\n",
    "random.seed(45394)"
   ]
  },
  {
   "cell_type": "code",
   "execution_count": null,
   "metadata": {},
   "outputs": [],
   "source": [
    "from helpers import read_wiki_sents\n",
    "\n",
    "sents = read_wiki_sents()\n",
    "sents[:5]"
   ]
  },
  {
   "cell_type": "code",
   "execution_count": null,
   "metadata": {},
   "outputs": [],
   "source": [
    "from itertools import chain\n",
    "import spacy\n",
    "\n",
    "nlp = spacy.load(\"de_dep_news_trf\")\n",
    "\n",
    "\n",
    "def get_nouns(sent):\n",
    "    doc = nlp(sent)\n",
    "    return [(doc, w.i) for w in doc if w.pos_ == \"NOUN\" and len(w.text) > 4]\n",
    "\n",
    "\n",
    "nouns = list(chain(*[get_nouns(s) for s in sents[:100]]))\n",
    "len(nouns)\n"
   ]
  },
  {
   "cell_type": "code",
   "execution_count": null,
   "metadata": {},
   "outputs": [],
   "source": [
    "import re\n",
    "\n",
    "def is_range(l):\n",
    "    a = l[0]\n",
    "    for b in l[1:]:\n",
    "        if b - a != 1:\n",
    "            return False\n",
    "        a = b\n",
    "    return True\n",
    "\n",
    "def is_indefinite_nom(t):\n",
    "    if t.morph.get(\"Case\") == [\"Nom\"]:\n",
    "        in_sing = any([c.lemma_ in [\"ein\", \"einen\"] for c in t.children])\n",
    "        in_plur = not any(c.lemma_ in [\"der\"] for c in t.children)\n",
    "        return in_sing or in_plur\n",
    "    return False\n",
    "\n",
    "def is_article(parent, t):\n",
    "    # articles and also pronouns\n",
    "    return t.head == parent and t.pos_ == \"DET\"\n",
    "\n",
    "def get_phrase(doc_and_i):\n",
    "    doc, i = doc_and_i\n",
    "    noun = doc[i]\n",
    "    if all([t.is_alpha for t in noun.subtree]) \\\n",
    "        and list(noun.subtree)[0].i > 0 \\\n",
    "        and len(list(noun.subtree)) <= 5 \\\n",
    "        and is_indefinite_nom(noun) \\\n",
    "        and is_range(sorted([t.i for t in noun.subtree])):\n",
    "        ts = [t.text_with_ws for t in noun.subtree if not is_article(noun, t)]\n",
    "        return re.sub(r\"[^a-zäöÜA-ZÄÖÜ]+$\", \"\", \"\".join(ts))\n",
    "    return None\n",
    "\n",
    "phrases = [phrase for noun in nouns if (phrase := get_phrase(noun)) is not None]\n",
    "len(phrases)"
   ]
  },
  {
   "cell_type": "code",
   "execution_count": null,
   "metadata": {},
   "outputs": [],
   "source": [
    "phrases[:10]"
   ]
  },
  {
   "cell_type": "code",
   "execution_count": null,
   "metadata": {},
   "outputs": [],
   "source": [
    "from joblib import Memory\n",
    "memory = Memory(\"~/.cache\", verbose=0)"
   ]
  },
  {
   "cell_type": "code",
   "execution_count": null,
   "metadata": {},
   "outputs": [],
   "source": [
    "%load_ext dotenv\n",
    "%dotenv\n",
    "import os\n",
    "import openai\n",
    "\n",
    "openai.api_key = os.getenv(\"OPENAI_API_KEY\")\n",
    "\n",
    "@memory.cache\n",
    "def replace(a, b, sent):\n",
    "    response = openai.Edit.create(\n",
    "        engine=\"text-davinci-edit-001\",\n",
    "        input=sent,\n",
    "        instruction=f\"Ersetze \\\"{a}\\\" durch \\\"{b}\\\". Passe die Grammatik entsprechend an.\",\n",
    "        temperature=0,\n",
    "        top_p=1\n",
    "    )\n",
    "    return response[\"choices\"][0][\"text\"]"
   ]
  },
  {
   "cell_type": "code",
   "execution_count": null,
   "metadata": {},
   "outputs": [],
   "source": [
    "@memory.cache\n",
    "def replace_batch(l):\n",
    "    inputs = [\n",
    "        f\"\"\"\n",
    "        Ersetze \"{doc[i].lemma_.capitalize()}\" durch \"{phrase}\".\n",
    "        Originaltext: {doc[i].doc.text}\n",
    "        Text mit Ersetzung: ___\n",
    "        \"\"\"\n",
    "        for (doc, i), phrase in l]\n",
    "    instruction = \"\"\"Führe die Ersetzungen durch. Nimm grammatische Anpassungen vor, sodass der entstehende Satz mit der Ersetzung grammatisch einwandfrei ist. Wenn eine grammatisch einwandfreie Ersetzung nicht möglich ist, dann trage \"FEHLER\" ein\".\"\"\"\n",
    "    response = openai.Edit.create(\n",
    "        engine=\"text-davinci-edit-001\",\n",
    "        input=\"\\n\".join(inputs),\n",
    "        instruction=instruction,\n",
    "        temperature=0,\n",
    "        top_p=1\n",
    "    )\n",
    "    # print(response[\"choices\"][0][\"text\"])\n",
    "    replaceds = re.findall(r\"Text mit Ersetzung: (.*)\\n\", response[\"choices\"][0][\"text\"])\n",
    "    return [\n",
    "        dict(x=doc[i].doc.text,replace=doc[i].lemma_.capitalize(),replace_with=phrase,y=replaced)\n",
    "        for replaced, ((doc, i), phrase) in zip(replaceds, l)\n",
    "    ]"
   ]
  },
  {
   "cell_type": "code",
   "execution_count": null,
   "metadata": {},
   "outputs": [],
   "source": [
    "import json\n",
    "from tqdm.notebook import tqdm\n",
    "\n",
    "from helpers import chunks\n",
    "\n",
    "random.seed(659342)\n",
    "random.shuffle(nouns)\n",
    "random.shuffle(phrases)\n",
    "data = []\n",
    "\n",
    "training_data = []\n",
    "for chunk in tqdm(list(chunks(list(zip(nouns, phrases)), 1))):\n",
    "    res = replace_batch(tuple(chunk))\n",
    "    training_data = list(chain(training_data, res)) \n",
    "    with open(\"../data/training_data_general.json\", \"w\") as f:\n",
    "        json.dump(training_data, f, indent=2, ensure_ascii=False)\n"
   ]
  }
 ],
 "metadata": {
  "interpreter": {
   "hash": "e7cb1b9ae4d417fedf7f40a8eec98f7cfbd359e096bd857395a915f4609834ce"
  },
  "kernelspec": {
   "display_name": "Python 3.9.12 ('base')",
   "language": "python",
   "name": "python3"
  },
  "language_info": {
   "codemirror_mode": {
    "name": "ipython",
    "version": 3
   },
   "file_extension": ".py",
   "mimetype": "text/x-python",
   "name": "python",
   "nbconvert_exporter": "python",
   "pygments_lexer": "ipython3",
   "version": "3.9.12"
  },
  "orig_nbformat": 4
 },
 "nbformat": 4,
 "nbformat_minor": 2
}
