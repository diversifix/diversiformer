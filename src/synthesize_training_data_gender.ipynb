{
 "cells": [
  {
   "cell_type": "code",
   "execution_count": 1,
   "metadata": {},
   "outputs": [
    {
     "data": {
      "text/plain": [
       "['Gemeinsam mit Inspektor Kemp, einem ehemaligen Schüler des aus anderen Christie-Romanen bekannten Inspektor Battle, untersucht er nun die Todesfälle.',\n",
       " 'Im Juni 2020 wurde die modernisierte Version M-84AS1 vorgestellt.',\n",
       " 'In Großbritannien erfreute sich Metternich ungeachtet des deutsch-kritischen Klimas großen Ansehens.',\n",
       " 'Gertrud von le Fort teilt weder irgendeine Jahreszahl noch den Namen des Königs mit.',\n",
       " 'In Rio unterstützt EBX Sport-, Bewirtungs-, Gastronomie-, Gesundheits- und Schönheitsinitiativen.']"
      ]
     },
     "execution_count": 1,
     "metadata": {},
     "output_type": "execute_result"
    }
   ],
   "source": [
    "from helpers import read_wiki_sents\n",
    "\n",
    "sents = read_wiki_sents()\n",
    "sents[:5]"
   ]
  },
  {
   "cell_type": "code",
   "execution_count": 2,
   "metadata": {},
   "outputs": [
    {
     "name": "stderr",
     "output_type": "stream",
     "text": [
      "Using custom data configuration diversifix--inclusive_words-cbfc100d5496cbf7\n"
     ]
    },
    {
     "name": "stdout",
     "output_type": "stream",
     "text": [
      "Downloading and preparing dataset csv/diversifix--inclusive_words to /Users/david/.cache/huggingface/datasets/csv/diversifix--inclusive_words-cbfc100d5496cbf7/0.0.0/433e0ccc46f9880962cc2b12065189766fbb2bee57a221866138fb9203c83519...\n"
     ]
    },
    {
     "data": {
      "application/vnd.jupyter.widget-view+json": {
       "model_id": "5ed32e2c8a3041d7a91edd0ffbd221e7",
       "version_major": 2,
       "version_minor": 0
      },
      "text/plain": [
       "Downloading data files:   0%|          | 0/1 [00:00<?, ?it/s]"
      ]
     },
     "metadata": {},
     "output_type": "display_data"
    },
    {
     "data": {
      "application/vnd.jupyter.widget-view+json": {
       "model_id": "a5ef6276edd746fa991fa5fd46e6e296",
       "version_major": 2,
       "version_minor": 0
      },
      "text/plain": [
       "Downloading data:   0%|          | 0.00/404k [00:00<?, ?B/s]"
      ]
     },
     "metadata": {},
     "output_type": "display_data"
    },
    {
     "data": {
      "application/vnd.jupyter.widget-view+json": {
       "model_id": "86bc7122cdab4951afc3bce08e095456",
       "version_major": 2,
       "version_minor": 0
      },
      "text/plain": [
       "Extracting data files:   0%|          | 0/1 [00:00<?, ?it/s]"
      ]
     },
     "metadata": {},
     "output_type": "display_data"
    },
    {
     "name": "stdout",
     "output_type": "stream",
     "text": [
      "Dataset csv downloaded and prepared to /Users/david/.cache/huggingface/datasets/csv/diversifix--inclusive_words-cbfc100d5496cbf7/0.0.0/433e0ccc46f9880962cc2b12065189766fbb2bee57a221866138fb9203c83519. Subsequent calls will reuse this data.\n"
     ]
    },
    {
     "data": {
      "application/vnd.jupyter.widget-view+json": {
       "model_id": "12a26308f9494d06a2f9339ce3d7c6b4",
       "version_major": 2,
       "version_minor": 0
      },
      "text/plain": [
       "  0%|          | 0/1 [00:00<?, ?it/s]"
      ]
     },
     "metadata": {},
     "output_type": "display_data"
    },
    {
     "data": {
      "text/plain": [
       "[{'exclusive': 'Abbrecher',\n",
       "  'inclusive': 'Abbrecherin',\n",
       "  'applicable': 'always',\n",
       "  'gender_of_inclusive': 'female',\n",
       "  'source': 'dereko'},\n",
       " {'exclusive': 'Abbrecherquote',\n",
       "  'inclusive': 'Abbruchquote',\n",
       "  'applicable': 'always',\n",
       "  'gender_of_inclusive': 'neutral',\n",
       "  'source': 'geschicktgendern'},\n",
       " {'exclusive': 'Abenteurer',\n",
       "  'inclusive': 'abenteuerliebende Person',\n",
       "  'applicable': 'always',\n",
       "  'gender_of_inclusive': 'neutral',\n",
       "  'source': 'geschicktgendern'}]"
      ]
     },
     "execution_count": 2,
     "metadata": {},
     "output_type": "execute_result"
    }
   ],
   "source": [
    "from datasets import load_dataset\n",
    "train = list(load_dataset(\"diversifix/inclusive_words\")[\"train\"])\n",
    "train[:3]"
   ]
  },
  {
   "cell_type": "code",
   "execution_count": 3,
   "metadata": {},
   "outputs": [],
   "source": [
    "data = dict()\n",
    "for row in train:\n",
    "    if not row[\"exclusive\"] in data.keys():\n",
    "        data[row[\"exclusive\"]] = []\n",
    "    data[row[\"exclusive\"]].append(row)"
   ]
  },
  {
   "cell_type": "code",
   "execution_count": 4,
   "metadata": {},
   "outputs": [
    {
     "data": {
      "text/plain": [
       "[('tok2vec', <spacy.pipeline.tok2vec.Tok2Vec at 0x282f8bdc0>),\n",
       " ('tagger', <spacy.pipeline.tagger.Tagger at 0x282f8bca0>),\n",
       " ('morphologizer',\n",
       "  <spacy.pipeline.morphologizer.Morphologizer at 0x282f8b820>),\n",
       " ('lemmatizer',\n",
       "  <spacy.pipeline.edit_tree_lemmatizer.EditTreeLemmatizer at 0x282b08ca0>)]"
      ]
     },
     "execution_count": 4,
     "metadata": {},
     "output_type": "execute_result"
    }
   ],
   "source": [
    "import spacy\n",
    "nlp = spacy.load(\"de_core_news_sm\", disable=[\"ner\", \"attribute_ruler\", \"parser\"])\n",
    "nlp.pipeline"
   ]
  },
  {
   "cell_type": "code",
   "execution_count": 5,
   "metadata": {},
   "outputs": [],
   "source": [
    "docs = list(nlp.pipe(sents[:4000], batch_size=1000, n_process=4))"
   ]
  },
  {
   "cell_type": "code",
   "execution_count": 6,
   "metadata": {},
   "outputs": [
    {
     "data": {
      "text/plain": [
       "(778,\n",
       " [('Gemeinsam mit Inspektor Kemp, einem ehemaligen Schüler des aus anderen Christie-Romanen bekannten Inspektor Battle, untersucht er nun die Todesfälle.',\n",
       "   'Schüler',\n",
       "   'Schulkind'),\n",
       "  ('Gertrud von le Fort teilt weder irgendeine Jahreszahl noch den Namen des Königs mit.',\n",
       "   'König',\n",
       "   'Königin oder König'),\n",
       "  ('Die Applizierung der Drehung ins Handgelenk kann nun optimal mit der zum Angreifer einwärts gedrehten Schwertklinge unterstützt werden.',\n",
       "   'Angreifer',\n",
       "   'angreifende Person')])"
      ]
     },
     "execution_count": 6,
     "metadata": {},
     "output_type": "execute_result"
    }
   ],
   "source": [
    "import random\n",
    "random.seed(93020)\n",
    "\n",
    "people_sents = []\n",
    "for doc in docs:\n",
    "    matches = [t for t in doc if t.pos_ == \"NOUN\" and t.lemma_ in data.keys()]\n",
    "    if len(matches) == 0:\n",
    "        continue\n",
    "    random.shuffle(matches)\n",
    "    t = matches[0]\n",
    "    alternatives = data[t.lemma_]\n",
    "    if t.morph.get(\"Number\") == [\"Sing\"]:\n",
    "        alternatives = [a for a in alternatives if a[\"applicable\"] in [\"in_singular\", \"always\"]]\n",
    "    if len(alternatives) == 0:\n",
    "        continue\n",
    "    random.shuffle(alternatives)\n",
    "    alt = alternatives[0]\n",
    "    post = \" oder \" + t.lemma_ if alt[\"gender_of_inclusive\"] == \"female\" and random.random() > 0.5 else \"\"\n",
    "    inclusive = alt[\"inclusive\"] + post\n",
    "    people_sents.append((doc.text, t.lemma_, inclusive))\n",
    "(len(people_sents), people_sents[:3])"
   ]
  },
  {
   "cell_type": "code",
   "execution_count": 7,
   "metadata": {},
   "outputs": [
    {
     "name": "stdout",
     "output_type": "stream",
     "text": [
      "(1)\n",
      "Original: \"Die Schüler kamen zu spät.\"\n",
      "Mit Ersetzung: \"Die Schülerinnen und Schüler kamen zu spät.\"\n",
      "\n",
      "(2)\n",
      "Original: \"Sie werden dem neuen Kanzler gratulieren.\"\n",
      "Mit Ersetzung: \"Sie werden der neuen Kanzlerin oder dem neuen Kanzler gratulieren.\"\n",
      "\n",
      "(3)\n",
      "Original: \"Gemeinsam mit Inspektor Kemp, einem ehemaligen Schüler des aus anderen Christie-Romanen bekannten Inspektor Battle, untersucht er nun die Todesfälle.\"\n",
      "Mit Ersetzung: ___\n",
      "\n",
      "(4)\n",
      "Original: \"Gertrud von le Fort teilt weder irgendeine Jahreszahl noch den Namen des Königs mit.\"\n",
      "Mit Ersetzung: ___\n",
      "\n",
      "(5)\n",
      "Original: \"Die Applizierung der Drehung ins Handgelenk kann nun optimal mit der zum Angreifer einwärts gedrehten Schwertklinge unterstützt werden.\"\n",
      "Mit Ersetzung: ___\n",
      "\n",
      "(6)\n",
      "Original: \"Außerdem habe sie sich von ihrer Mutter zu sehr bevormundet gefühlt, und sich daran gestört, dass es dieser so überaus wichtig sei, was die Leute über sie denken.\"\n",
      "Mit Ersetzung: ___\n",
      "\n",
      "(7)\n",
      "Original: \"Der Sohn eines berühmten Musikers erzählt.\"\n",
      "Mit Ersetzung: ___\n",
      "\n",
      "(8)\n",
      "Original: \"Thomas’ Vorgesetzter, der Polizeichef, zieht Thomas zu dessen Verwunderung von den Ermittlungen ab, da der Geheimdienst diese nun durchführe.\"\n",
      "Mit Ersetzung: ___\n",
      "\n",
      "(9)\n",
      "Original: \"Vgl. Yarshater (Hrsg.), Cambridge History of Iran, Bd. 3. Cambridge 1983, S. 176, 547. Peroz’ Sohn Narseh versuchte offenbar, die Türken gegen die Araber zu mobilisieren.\"\n",
      "Mit Ersetzung: ___\n",
      "\n",
      "(10)\n",
      "Original: \"Die Stadt dehnte sich nach Süden und Nordwesten aus, wobei die Einwohnerzahl zwischen 1861 und 1871 von 17 000 auf 25 000 stieg.\"\n",
      "Mit Ersetzung: ___\n",
      "\n",
      "Führe die folgenden Ersetzungen durch. Verändere den Satz und die Ersatzwörter dazu gegebenenfalls grammatisch, sodass ein grammatisch korrekter und flüssiger Satz entsteht.\n",
      "\n",
      "(1) Ersetze \"Schüler\" durch eine entsprechend angepasste Form von \"Schülerin oder Schüler\".\n",
      "(2) Ersetze \"Kanzler\" durch eine entsprechend angepasste Form von \"Kanzlerin oder Kanzler\".\n",
      "(3) Ersetze \"Schüler\" durch eine entsprechend angepasste Form von \"Schulkind\".\n",
      "(4) Ersetze \"König\" durch eine entsprechend angepasste Form von \"Königin oder König\".\n",
      "(5) Ersetze \"Angreifer\" durch eine entsprechend angepasste Form von \"angreifende Person\".\n",
      "(6) Ersetze \"Mutter\" durch eine entsprechend angepasste Form von \"Elternteil\".\n",
      "(7) Ersetze \"Musiker\" durch eine entsprechend angepasste Form von \"musikschaffende Person\".\n",
      "(8) Ersetze \"Vorgesetzter\" durch eine entsprechend angepasste Form von \"Führungskraft\".\n",
      "(9) Ersetze \"Araber\" durch eine entsprechend angepasste Form von \"Araberin oder Araber\".\n",
      "(10) Ersetze \"Einwohnerzahl\" durch eine entsprechend angepasste Form von \"Bevölkerungszahl\".\n"
     ]
    }
   ],
   "source": [
    "from helpers import chunks\n",
    "\n",
    "batches = []\n",
    "for chunk in chunks(people_sents, 8):\n",
    "    inputs = [\"\"\"(1)\\nOriginal: \"Die Schüler kamen zu spät.\"\\nMit Ersetzung: \"Die Schülerinnen und Schüler kamen zu spät.\"\\n\\n(2)\\nOriginal: \"Sie werden dem neuen Kanzler gratulieren.\"\\nMit Ersetzung: \"Sie werden der neuen Kanzlerin oder dem neuen Kanzler gratulieren.\"\\n\"\"\"]\n",
    "    instructions = [\"\"\"Führe die folgenden Ersetzungen durch. Verändere den Satz und die Ersatzwörter dazu gegebenenfalls grammatisch, sodass ein grammatisch korrekter und flüssiger Satz entsteht.\\n\\n(1) Ersetze \"Schüler\" durch eine entsprechend angepasste Form von \"Schülerin oder Schüler\".\\n(2) Ersetze \"Kanzler\" durch eine entsprechend angepasste Form von \"Kanzlerin oder Kanzler\".\"\"\"]\n",
    "    for i, (sent, a, b) in enumerate(chunk, 3):\n",
    "        inputs.append(f\"\"\"({i})\\nOriginal: \"{sent}\"\\nMit Ersetzung: ___\\n\"\"\")\n",
    "        instructions.append(f\"\"\"({i}) Ersetze \"{a}\" durch eine entsprechend angepasste Form von \"{b}\".\"\"\")\n",
    "    batches.append((chunk, \"\\n\".join(inputs), \"\\n\".join(instructions)))\n",
    "print(batches[0][1])\n",
    "print(batches[0][2])"
   ]
  },
  {
   "cell_type": "code",
   "execution_count": 8,
   "metadata": {},
   "outputs": [],
   "source": [
    "%load_ext dotenv\n",
    "%dotenv\n",
    "\n",
    "import os\n",
    "import openai\n",
    "\n",
    "openai.api_key = os.getenv(\"OPENAI_API_KEY\")\n"
   ]
  },
  {
   "cell_type": "code",
   "execution_count": 9,
   "metadata": {},
   "outputs": [],
   "source": [
    "from joblib import Memory\n",
    "memory = Memory(\".cache\", verbose=0)\n",
    "\n",
    "@memory.cache\n",
    "def get_replacements(input, instruction):\n",
    "    response = openai.Edit.create(\n",
    "        engine=\"text-davinci-edit-001\",\n",
    "        input=input,\n",
    "        instruction=instruction,\n",
    "        temperature=0,\n",
    "        top_p=1\n",
    "    )\n",
    "    return response[\"choices\"][0][\"text\"]"
   ]
  },
  {
   "cell_type": "code",
   "execution_count": 10,
   "metadata": {},
   "outputs": [
    {
     "data": {
      "application/vnd.jupyter.widget-view+json": {
       "model_id": "be24f305a2c3416bacce7ce9d758eeb7",
       "version_major": 2,
       "version_minor": 0
      },
      "text/plain": [
       "  0%|          | 0/12 [00:00<?, ?it/s]"
      ]
     },
     "metadata": {},
     "output_type": "display_data"
    }
   ],
   "source": [
    "from itertools import chain\n",
    "import re\n",
    "\n",
    "from joblib import Parallel, delayed\n",
    "from tqdm.notebook import tqdm\n",
    "\n",
    "def get_unfiltered_training_data(batch):\n",
    "    chunk, input, instruction = batch\n",
    "    output = get_replacements(input, instruction)\n",
    "    replacements = re.findall(r\"Mit Ersetzung: \\\"(.*)\\\"\", output)[2:]\n",
    "    return [(sent, a, b, rep) for (sent, a, b), rep in zip(chunk, replacements)]\n",
    "\n",
    "utd = Parallel(n_jobs=4)(delayed(get_unfiltered_training_data)(batch) for batch in tqdm(batches[:12]))\n",
    "unfiltered_training_data = list(chain(*utd))\n",
    "    "
   ]
  },
  {
   "cell_type": "code",
   "execution_count": 11,
   "metadata": {},
   "outputs": [
    {
     "data": {
      "text/plain": [
       "(89, 71)"
      ]
     },
     "execution_count": 11,
     "metadata": {},
     "output_type": "execute_result"
    }
   ],
   "source": [
    "import requests\n",
    "\n",
    "training_data = []\n",
    "\n",
    "for sent, a, b, rep in unfiltered_training_data:\n",
    "    r = requests.post(\n",
    "        \"http://localhost:8081/v2/check\",\n",
    "        data={\"text\": rep, \"language\": \"de-DE\", \"enabledCategories\": \"PUNCTUATION,CASING,COLLOCATIONS,CONFUSED_WORDS,CREATIVE_WRITING,GRAMMAR,MISC,MISUSED_TERMS_EU_PUBLICATIONS,NONSTANDARD_PHRASES,REDUNDANCY,SEMANTICS,TEXT_ANALYSIS,STYLE\", \"disabledCategories\": \"TYPOS,TYPOGRAPHY\"},\n",
    "        headers={\"Content-Type\": \"application/x-www-form-urlencoded\"},\n",
    "    )\n",
    "    matches = r.json()[\"matches\"]\n",
    "    if len(matches) == 0:\n",
    "        training_data.append(dict(x=sent, a=a, b=b, y=rep))\n",
    "(len(unfiltered_training_data), len(training_data))"
   ]
  },
  {
   "cell_type": "code",
   "execution_count": 12,
   "metadata": {},
   "outputs": [],
   "source": [
    "import json\n",
    "with open(\"../data/training_data_gender.json\", \"w\") as f:\n",
    "    json.dump(training_data, f, ensure_ascii=False, indent=2)"
   ]
  },
  {
   "cell_type": "code",
   "execution_count": null,
   "metadata": {},
   "outputs": [],
   "source": []
  }
 ],
 "metadata": {
  "interpreter": {
   "hash": "e7cb1b9ae4d417fedf7f40a8eec98f7cfbd359e096bd857395a915f4609834ce"
  },
  "kernelspec": {
   "display_name": "Python 3.9.12 ('base')",
   "language": "python",
   "name": "python3"
  },
  "language_info": {
   "codemirror_mode": {
    "name": "ipython",
    "version": 3
   },
   "file_extension": ".py",
   "mimetype": "text/x-python",
   "name": "python",
   "nbconvert_exporter": "python",
   "pygments_lexer": "ipython3",
   "version": "3.9.12"
  },
  "orig_nbformat": 4
 },
 "nbformat": 4,
 "nbformat_minor": 2
}
