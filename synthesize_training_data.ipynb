{
 "cells": [
  {
   "cell_type": "code",
   "execution_count": 1,
   "metadata": {},
   "outputs": [],
   "source": [
    "import tarfile\n",
    "import urllib.request\n",
    "url = \"http://pcai056.informatik.uni-leipzig.de/downloads/corpora/deu_wikipedia_2021_10K.tar.gz\"\n",
    "with urllib.request.urlopen(url) as f:\n",
    "    stream = urllib.request.urlopen(url)\n",
    "    f = tarfile.open(fileobj=stream, mode=\"r|gz\")\n",
    "    f.extractall()\n"
   ]
  },
  {
   "cell_type": "code",
   "execution_count": 2,
   "metadata": {},
   "outputs": [
    {
     "data": {
      "text/plain": [
       "['Er war der Sohn des französischen Büchsenmachers Abraham Houel I. (um 1631–1711) und der jüngere Bruder des Hofrüstmeisters Abraham Houel II.',\n",
       " 'Auch weitere Gründungsmitglieder verließen daraufhin das Projekt.',\n",
       " 'Malcolm Freshney leitete anfangs das Unternehmen.',\n",
       " 'Cushing feiert im Jahr 2006 einen Sieg über Stanford.',\n",
       " 'Ob das Lager auch über quadratische, innen angesetzte Zwischen- und Ecktürme verfügte ist nicht bekannt aber sehr wahrscheinlich.']"
      ]
     },
     "execution_count": 2,
     "metadata": {},
     "output_type": "execute_result"
    }
   ],
   "source": [
    "import random\n",
    "with open(\"deu_wikipedia_2021_10K/deu_wikipedia_2021_10K-sentences.txt\", \"r\") as f:\n",
    "    lines = f.read().split(\"\\n\")[:-1]\n",
    "    sents = [l.split(\"\\t\")[1] for l in lines]\n",
    "    random.shuffle(sents)\n",
    "sents[:5]"
   ]
  },
  {
   "cell_type": "code",
   "execution_count": 3,
   "metadata": {},
   "outputs": [
    {
     "name": "stderr",
     "output_type": "stream",
     "text": [
      "/opt/homebrew/Caskroom/miniconda/base/lib/python3.9/site-packages/torch/autocast_mode.py:162: UserWarning: User provided device_type of 'cuda', but CUDA is not available. Disabling\n",
      "  warnings.warn('User provided device_type of \\'cuda\\', but CUDA is not available. Disabling')\n"
     ]
    }
   ],
   "source": [
    "import de_dep_news_trf\n",
    "from itertools import chain\n",
    "nlp = de_dep_news_trf.load()\n",
    "def get_nouns(sent):\n",
    "    doc = nlp(sent)\n",
    "    return [w for w in doc if w.pos_ == \"NOUN\"]\n",
    "nouns = list(chain(*[get_nouns(s) for s in sents[:100]]))\n"
   ]
  },
  {
   "cell_type": "code",
   "execution_count": 4,
   "metadata": {},
   "outputs": [],
   "source": [
    "import re\n",
    "\n",
    "def is_range(l):\n",
    "    a = l[0]\n",
    "    for b in l[1:]:\n",
    "        if b - a != 1:\n",
    "            return False\n",
    "        a = b\n",
    "    return True\n",
    "\n",
    "def is_indefinite_nom(t):\n",
    "    if t.morph.get(\"Case\") == [\"Nom\"]:\n",
    "        in_sing = any([c.lemma_ in [\"ein\", \"einen\"] for c in t.children])\n",
    "        in_plur = not any(c.lemma_ in [\"der\"] for c in t.children)\n",
    "        return in_sing or in_plur\n",
    "    return False\n",
    "\n",
    "def is_article(parent, t):\n",
    "    return t.head == parent and t.lemma_ in [\"der\", \"ein\", \"einen\"]\n",
    "\n",
    "def get_phrase(noun):\n",
    "    if all([t.is_alpha for t in noun.subtree]) \\\n",
    "        and is_indefinite_nom(noun) \\\n",
    "        and is_range(sorted([t.i for t in noun.subtree])):\n",
    "        ts = [t.text_with_ws for t in noun.subtree if not is_article(noun, t)]\n",
    "        return re.sub(r\"[^a-zäöÜA-ZÄÖÜ]+$\", \"\", \"\".join(ts))\n",
    "    return None\n",
    "\n",
    "phrases = [phrase for noun in nouns if (phrase := get_phrase(noun)) is not None]"
   ]
  },
  {
   "cell_type": "code",
   "execution_count": 5,
   "metadata": {},
   "outputs": [
    {
     "data": {
      "text/plain": [
       "['Auch weitere Gründungsmitglieder',\n",
       " 'Ein Arbeitsauftrag für ein größeres Kirchenwerk',\n",
       " 'Kardinal Giordano',\n",
       " 'Diese Galerien',\n",
       " 'nur zwei Parteien',\n",
       " 'privates Freilichtmuseum mit zahlreichen Bahnartefakten',\n",
       " 'alle produzierten Wagen',\n",
       " 'unterschiedliche Schreibungen eines Personennamens',\n",
       " 'Leitfaden zur sprachlichen Gleichbehandlung von Soldaten',\n",
       " 'Hoch gelegene Burg']"
      ]
     },
     "execution_count": 5,
     "metadata": {},
     "output_type": "execute_result"
    }
   ],
   "source": [
    "phrases[:10]"
   ]
  },
  {
   "cell_type": "code",
   "execution_count": 6,
   "metadata": {},
   "outputs": [],
   "source": [
    "%load_ext dotenv\n",
    "%dotenv\n",
    "import os\n",
    "import openai\n",
    "\n",
    "openai.api_key = os.getenv(\"OPENAI_API_KEY\")\n",
    "\n",
    "def replace(a, b, sent):\n",
    "    response = openai.Edit.create(\n",
    "    engine=\"text-davinci-edit-001\",\n",
    "    input=sent,\n",
    "    instruction=f\"Ersetze \\\"{a}\\\" durch \\\"{b}\\\". Passe die Grammatik entsprechend an.\",\n",
    "    temperature=0,\n",
    "    top_p=1\n",
    "    )\n",
    "    return response[\"choices\"][0][\"text\"]"
   ]
  },
  {
   "cell_type": "code",
   "execution_count": 7,
   "metadata": {},
   "outputs": [
    {
     "ename": "RateLimitError",
     "evalue": "Rate limit reached for default-text-davinci-edit-001. Limit: 20.000000 / min. Current: 24.000000 / min. Contact support@openai.com if you continue to have issues.",
     "output_type": "error",
     "traceback": [
      "\u001b[0;31m---------------------------------------------------------------------------\u001b[0m",
      "\u001b[0;31mRateLimitError\u001b[0m                            Traceback (most recent call last)",
      "\u001b[1;32m/Users/david/Repositories/diversifix/ersetzBERT/synthesize_training_data.ipynb Cell 7'\u001b[0m in \u001b[0;36m<cell line: 6>\u001b[0;34m()\u001b[0m\n\u001b[1;32m      <a href='vscode-notebook-cell:/Users/david/Repositories/diversifix/ersetzBERT/synthesize_training_data.ipynb#ch0000006?line=4'>5</a>\u001b[0m data \u001b[39m=\u001b[39m []\n\u001b[1;32m      <a href='vscode-notebook-cell:/Users/david/Repositories/diversifix/ersetzBERT/synthesize_training_data.ipynb#ch0000006?line=5'>6</a>\u001b[0m \u001b[39mfor\u001b[39;00m noun, phrase \u001b[39min\u001b[39;00m \u001b[39mlist\u001b[39m(\u001b[39mzip\u001b[39m(nouns, phrases)):\n\u001b[0;32m----> <a href='vscode-notebook-cell:/Users/david/Repositories/diversifix/ersetzBERT/synthesize_training_data.ipynb#ch0000006?line=6'>7</a>\u001b[0m     new \u001b[39m=\u001b[39m replace(noun\u001b[39m.\u001b[39;49mtext, phrase, noun\u001b[39m.\u001b[39;49mdoc\u001b[39m.\u001b[39;49mtext)\n\u001b[1;32m      <a href='vscode-notebook-cell:/Users/david/Repositories/diversifix/ersetzBERT/synthesize_training_data.ipynb#ch0000006?line=7'>8</a>\u001b[0m     data\u001b[39m.\u001b[39mappend(\u001b[39mdict\u001b[39m(x\u001b[39m=\u001b[39mnoun\u001b[39m.\u001b[39mdoc\u001b[39m.\u001b[39mtext,replace\u001b[39m=\u001b[39mnoun\u001b[39m.\u001b[39mtext,replace_with\u001b[39m=\u001b[39mphrase,y\u001b[39m=\u001b[39mnew))\n\u001b[1;32m      <a href='vscode-notebook-cell:/Users/david/Repositories/diversifix/ersetzBERT/synthesize_training_data.ipynb#ch0000006?line=8'>9</a>\u001b[0m     \u001b[39mwith\u001b[39;00m \u001b[39mopen\u001b[39m(\u001b[39m\"\u001b[39m\u001b[39mtraining_data.json\u001b[39m\u001b[39m\"\u001b[39m, \u001b[39m\"\u001b[39m\u001b[39mw\u001b[39m\u001b[39m\"\u001b[39m) \u001b[39mas\u001b[39;00m f:\n",
      "\u001b[1;32m/Users/david/Repositories/diversifix/ersetzBERT/synthesize_training_data.ipynb Cell 6'\u001b[0m in \u001b[0;36mreplace\u001b[0;34m(a, b, sent)\u001b[0m\n\u001b[1;32m      <a href='vscode-notebook-cell:/Users/david/Repositories/diversifix/ersetzBERT/synthesize_training_data.ipynb#ch0000005?line=7'>8</a>\u001b[0m \u001b[39mdef\u001b[39;00m \u001b[39mreplace\u001b[39m(a, b, sent):\n\u001b[0;32m----> <a href='vscode-notebook-cell:/Users/david/Repositories/diversifix/ersetzBERT/synthesize_training_data.ipynb#ch0000005?line=8'>9</a>\u001b[0m     response \u001b[39m=\u001b[39m openai\u001b[39m.\u001b[39;49mEdit\u001b[39m.\u001b[39;49mcreate(\n\u001b[1;32m     <a href='vscode-notebook-cell:/Users/david/Repositories/diversifix/ersetzBERT/synthesize_training_data.ipynb#ch0000005?line=9'>10</a>\u001b[0m     engine\u001b[39m=\u001b[39;49m\u001b[39m\"\u001b[39;49m\u001b[39mtext-davinci-edit-001\u001b[39;49m\u001b[39m\"\u001b[39;49m,\n\u001b[1;32m     <a href='vscode-notebook-cell:/Users/david/Repositories/diversifix/ersetzBERT/synthesize_training_data.ipynb#ch0000005?line=10'>11</a>\u001b[0m     \u001b[39minput\u001b[39;49m\u001b[39m=\u001b[39;49msent,\n\u001b[1;32m     <a href='vscode-notebook-cell:/Users/david/Repositories/diversifix/ersetzBERT/synthesize_training_data.ipynb#ch0000005?line=11'>12</a>\u001b[0m     instruction\u001b[39m=\u001b[39;49m\u001b[39mf\u001b[39;49m\u001b[39m\"\u001b[39;49m\u001b[39mErsetze \u001b[39;49m\u001b[39m\\\"\u001b[39;49;00m\u001b[39m{\u001b[39;49;00ma\u001b[39m}\u001b[39;49;00m\u001b[39m\\\"\u001b[39;49;00m\u001b[39m durch \u001b[39;49m\u001b[39m\\\"\u001b[39;49;00m\u001b[39m{\u001b[39;49;00mb\u001b[39m}\u001b[39;49;00m\u001b[39m\\\"\u001b[39;49;00m\u001b[39m. Passe die Grammatik entsprechend an.\u001b[39;49m\u001b[39m\"\u001b[39;49m,\n\u001b[1;32m     <a href='vscode-notebook-cell:/Users/david/Repositories/diversifix/ersetzBERT/synthesize_training_data.ipynb#ch0000005?line=12'>13</a>\u001b[0m     temperature\u001b[39m=\u001b[39;49m\u001b[39m0\u001b[39;49m,\n\u001b[1;32m     <a href='vscode-notebook-cell:/Users/david/Repositories/diversifix/ersetzBERT/synthesize_training_data.ipynb#ch0000005?line=13'>14</a>\u001b[0m     top_p\u001b[39m=\u001b[39;49m\u001b[39m1\u001b[39;49m\n\u001b[1;32m     <a href='vscode-notebook-cell:/Users/david/Repositories/diversifix/ersetzBERT/synthesize_training_data.ipynb#ch0000005?line=14'>15</a>\u001b[0m     )\n\u001b[1;32m     <a href='vscode-notebook-cell:/Users/david/Repositories/diversifix/ersetzBERT/synthesize_training_data.ipynb#ch0000005?line=15'>16</a>\u001b[0m     \u001b[39mreturn\u001b[39;00m response[\u001b[39m\"\u001b[39m\u001b[39mchoices\u001b[39m\u001b[39m\"\u001b[39m][\u001b[39m0\u001b[39m][\u001b[39m\"\u001b[39m\u001b[39mtext\u001b[39m\u001b[39m\"\u001b[39m]\n",
      "File \u001b[0;32m/opt/homebrew/Caskroom/miniconda/base/lib/python3.9/site-packages/openai/api_resources/edit.py:27\u001b[0m, in \u001b[0;36mEdit.create\u001b[0;34m(cls, *args, **kwargs)\u001b[0m\n\u001b[1;32m     <a href='file:///opt/homebrew/Caskroom/miniconda/base/lib/python3.9/site-packages/openai/api_resources/edit.py?line=24'>25</a>\u001b[0m \u001b[39mwhile\u001b[39;00m \u001b[39mTrue\u001b[39;00m:\n\u001b[1;32m     <a href='file:///opt/homebrew/Caskroom/miniconda/base/lib/python3.9/site-packages/openai/api_resources/edit.py?line=25'>26</a>\u001b[0m     \u001b[39mtry\u001b[39;00m:\n\u001b[0;32m---> <a href='file:///opt/homebrew/Caskroom/miniconda/base/lib/python3.9/site-packages/openai/api_resources/edit.py?line=26'>27</a>\u001b[0m         \u001b[39mreturn\u001b[39;00m \u001b[39msuper\u001b[39;49m()\u001b[39m.\u001b[39;49mcreate(\u001b[39m*\u001b[39;49margs, \u001b[39m*\u001b[39;49m\u001b[39m*\u001b[39;49mkwargs)\n\u001b[1;32m     <a href='file:///opt/homebrew/Caskroom/miniconda/base/lib/python3.9/site-packages/openai/api_resources/edit.py?line=27'>28</a>\u001b[0m     \u001b[39mexcept\u001b[39;00m TryAgain \u001b[39mas\u001b[39;00m e:\n\u001b[1;32m     <a href='file:///opt/homebrew/Caskroom/miniconda/base/lib/python3.9/site-packages/openai/api_resources/edit.py?line=28'>29</a>\u001b[0m         \u001b[39mif\u001b[39;00m timeout \u001b[39mis\u001b[39;00m \u001b[39mnot\u001b[39;00m \u001b[39mNone\u001b[39;00m \u001b[39mand\u001b[39;00m time\u001b[39m.\u001b[39mtime() \u001b[39m>\u001b[39m start \u001b[39m+\u001b[39m timeout:\n",
      "File \u001b[0;32m/opt/homebrew/Caskroom/miniconda/base/lib/python3.9/site-packages/openai/api_resources/abstract/engine_api_resource.py:100\u001b[0m, in \u001b[0;36mEngineAPIResource.create\u001b[0;34m(cls, api_key, api_base, api_type, request_id, api_version, organization, **params)\u001b[0m\n\u001b[1;32m     <a href='file:///opt/homebrew/Caskroom/miniconda/base/lib/python3.9/site-packages/openai/api_resources/abstract/engine_api_resource.py?line=91'>92</a>\u001b[0m requestor \u001b[39m=\u001b[39m api_requestor\u001b[39m.\u001b[39mAPIRequestor(\n\u001b[1;32m     <a href='file:///opt/homebrew/Caskroom/miniconda/base/lib/python3.9/site-packages/openai/api_resources/abstract/engine_api_resource.py?line=92'>93</a>\u001b[0m     api_key,\n\u001b[1;32m     <a href='file:///opt/homebrew/Caskroom/miniconda/base/lib/python3.9/site-packages/openai/api_resources/abstract/engine_api_resource.py?line=93'>94</a>\u001b[0m     api_base\u001b[39m=\u001b[39mapi_base,\n\u001b[0;32m   (...)\u001b[0m\n\u001b[1;32m     <a href='file:///opt/homebrew/Caskroom/miniconda/base/lib/python3.9/site-packages/openai/api_resources/abstract/engine_api_resource.py?line=96'>97</a>\u001b[0m     organization\u001b[39m=\u001b[39morganization,\n\u001b[1;32m     <a href='file:///opt/homebrew/Caskroom/miniconda/base/lib/python3.9/site-packages/openai/api_resources/abstract/engine_api_resource.py?line=97'>98</a>\u001b[0m )\n\u001b[1;32m     <a href='file:///opt/homebrew/Caskroom/miniconda/base/lib/python3.9/site-packages/openai/api_resources/abstract/engine_api_resource.py?line=98'>99</a>\u001b[0m url \u001b[39m=\u001b[39m \u001b[39mcls\u001b[39m\u001b[39m.\u001b[39mclass_url(engine, api_type, api_version)\n\u001b[0;32m--> <a href='file:///opt/homebrew/Caskroom/miniconda/base/lib/python3.9/site-packages/openai/api_resources/abstract/engine_api_resource.py?line=99'>100</a>\u001b[0m response, _, api_key \u001b[39m=\u001b[39m requestor\u001b[39m.\u001b[39;49mrequest(\n\u001b[1;32m    <a href='file:///opt/homebrew/Caskroom/miniconda/base/lib/python3.9/site-packages/openai/api_resources/abstract/engine_api_resource.py?line=100'>101</a>\u001b[0m     \u001b[39m\"\u001b[39;49m\u001b[39mpost\u001b[39;49m\u001b[39m\"\u001b[39;49m,\n\u001b[1;32m    <a href='file:///opt/homebrew/Caskroom/miniconda/base/lib/python3.9/site-packages/openai/api_resources/abstract/engine_api_resource.py?line=101'>102</a>\u001b[0m     url,\n\u001b[1;32m    <a href='file:///opt/homebrew/Caskroom/miniconda/base/lib/python3.9/site-packages/openai/api_resources/abstract/engine_api_resource.py?line=102'>103</a>\u001b[0m     params\u001b[39m=\u001b[39;49mparams,\n\u001b[1;32m    <a href='file:///opt/homebrew/Caskroom/miniconda/base/lib/python3.9/site-packages/openai/api_resources/abstract/engine_api_resource.py?line=103'>104</a>\u001b[0m     headers\u001b[39m=\u001b[39;49mheaders,\n\u001b[1;32m    <a href='file:///opt/homebrew/Caskroom/miniconda/base/lib/python3.9/site-packages/openai/api_resources/abstract/engine_api_resource.py?line=104'>105</a>\u001b[0m     stream\u001b[39m=\u001b[39;49mstream,\n\u001b[1;32m    <a href='file:///opt/homebrew/Caskroom/miniconda/base/lib/python3.9/site-packages/openai/api_resources/abstract/engine_api_resource.py?line=105'>106</a>\u001b[0m     request_id\u001b[39m=\u001b[39;49mrequest_id,\n\u001b[1;32m    <a href='file:///opt/homebrew/Caskroom/miniconda/base/lib/python3.9/site-packages/openai/api_resources/abstract/engine_api_resource.py?line=106'>107</a>\u001b[0m )\n\u001b[1;32m    <a href='file:///opt/homebrew/Caskroom/miniconda/base/lib/python3.9/site-packages/openai/api_resources/abstract/engine_api_resource.py?line=108'>109</a>\u001b[0m \u001b[39mif\u001b[39;00m stream:\n\u001b[1;32m    <a href='file:///opt/homebrew/Caskroom/miniconda/base/lib/python3.9/site-packages/openai/api_resources/abstract/engine_api_resource.py?line=109'>110</a>\u001b[0m     \u001b[39massert\u001b[39;00m \u001b[39mnot\u001b[39;00m \u001b[39misinstance\u001b[39m(response, OpenAIResponse)  \u001b[39m# must be an iterator\u001b[39;00m\n",
      "File \u001b[0;32m/opt/homebrew/Caskroom/miniconda/base/lib/python3.9/site-packages/openai/api_requestor.py:120\u001b[0m, in \u001b[0;36mAPIRequestor.request\u001b[0;34m(self, method, url, params, headers, files, stream, request_id)\u001b[0m\n\u001b[1;32m    <a href='file:///opt/homebrew/Caskroom/miniconda/base/lib/python3.9/site-packages/openai/api_requestor.py?line=100'>101</a>\u001b[0m \u001b[39mdef\u001b[39;00m \u001b[39mrequest\u001b[39m(\n\u001b[1;32m    <a href='file:///opt/homebrew/Caskroom/miniconda/base/lib/python3.9/site-packages/openai/api_requestor.py?line=101'>102</a>\u001b[0m     \u001b[39mself\u001b[39m,\n\u001b[1;32m    <a href='file:///opt/homebrew/Caskroom/miniconda/base/lib/python3.9/site-packages/openai/api_requestor.py?line=102'>103</a>\u001b[0m     method,\n\u001b[0;32m   (...)\u001b[0m\n\u001b[1;32m    <a href='file:///opt/homebrew/Caskroom/miniconda/base/lib/python3.9/site-packages/openai/api_requestor.py?line=108'>109</a>\u001b[0m     request_id: Optional[\u001b[39mstr\u001b[39m] \u001b[39m=\u001b[39m \u001b[39mNone\u001b[39;00m,\n\u001b[1;32m    <a href='file:///opt/homebrew/Caskroom/miniconda/base/lib/python3.9/site-packages/openai/api_requestor.py?line=109'>110</a>\u001b[0m ) \u001b[39m-\u001b[39m\u001b[39m>\u001b[39m Tuple[Union[OpenAIResponse, Iterator[OpenAIResponse]], \u001b[39mbool\u001b[39m, \u001b[39mstr\u001b[39m]:\n\u001b[1;32m    <a href='file:///opt/homebrew/Caskroom/miniconda/base/lib/python3.9/site-packages/openai/api_requestor.py?line=110'>111</a>\u001b[0m     result \u001b[39m=\u001b[39m \u001b[39mself\u001b[39m\u001b[39m.\u001b[39mrequest_raw(\n\u001b[1;32m    <a href='file:///opt/homebrew/Caskroom/miniconda/base/lib/python3.9/site-packages/openai/api_requestor.py?line=111'>112</a>\u001b[0m         method\u001b[39m.\u001b[39mlower(),\n\u001b[1;32m    <a href='file:///opt/homebrew/Caskroom/miniconda/base/lib/python3.9/site-packages/openai/api_requestor.py?line=112'>113</a>\u001b[0m         url,\n\u001b[0;32m   (...)\u001b[0m\n\u001b[1;32m    <a href='file:///opt/homebrew/Caskroom/miniconda/base/lib/python3.9/site-packages/openai/api_requestor.py?line=117'>118</a>\u001b[0m         request_id\u001b[39m=\u001b[39mrequest_id,\n\u001b[1;32m    <a href='file:///opt/homebrew/Caskroom/miniconda/base/lib/python3.9/site-packages/openai/api_requestor.py?line=118'>119</a>\u001b[0m     )\n\u001b[0;32m--> <a href='file:///opt/homebrew/Caskroom/miniconda/base/lib/python3.9/site-packages/openai/api_requestor.py?line=119'>120</a>\u001b[0m     resp, got_stream \u001b[39m=\u001b[39m \u001b[39mself\u001b[39;49m\u001b[39m.\u001b[39;49m_interpret_response(result, stream)\n\u001b[1;32m    <a href='file:///opt/homebrew/Caskroom/miniconda/base/lib/python3.9/site-packages/openai/api_requestor.py?line=120'>121</a>\u001b[0m     \u001b[39mreturn\u001b[39;00m resp, got_stream, \u001b[39mself\u001b[39m\u001b[39m.\u001b[39mapi_key\n",
      "File \u001b[0;32m/opt/homebrew/Caskroom/miniconda/base/lib/python3.9/site-packages/openai/api_requestor.py:327\u001b[0m, in \u001b[0;36mAPIRequestor._interpret_response\u001b[0;34m(self, result, stream)\u001b[0m\n\u001b[1;32m    <a href='file:///opt/homebrew/Caskroom/miniconda/base/lib/python3.9/site-packages/openai/api_requestor.py?line=318'>319</a>\u001b[0m     \u001b[39mreturn\u001b[39;00m (\n\u001b[1;32m    <a href='file:///opt/homebrew/Caskroom/miniconda/base/lib/python3.9/site-packages/openai/api_requestor.py?line=319'>320</a>\u001b[0m         \u001b[39mself\u001b[39m\u001b[39m.\u001b[39m_interpret_response_line(\n\u001b[1;32m    <a href='file:///opt/homebrew/Caskroom/miniconda/base/lib/python3.9/site-packages/openai/api_requestor.py?line=320'>321</a>\u001b[0m             line, result\u001b[39m.\u001b[39mstatus_code, result\u001b[39m.\u001b[39mheaders, stream\u001b[39m=\u001b[39m\u001b[39mTrue\u001b[39;00m\n\u001b[1;32m    <a href='file:///opt/homebrew/Caskroom/miniconda/base/lib/python3.9/site-packages/openai/api_requestor.py?line=321'>322</a>\u001b[0m         )\n\u001b[1;32m    <a href='file:///opt/homebrew/Caskroom/miniconda/base/lib/python3.9/site-packages/openai/api_requestor.py?line=322'>323</a>\u001b[0m         \u001b[39mfor\u001b[39;00m line \u001b[39min\u001b[39;00m parse_stream(result\u001b[39m.\u001b[39miter_lines())\n\u001b[1;32m    <a href='file:///opt/homebrew/Caskroom/miniconda/base/lib/python3.9/site-packages/openai/api_requestor.py?line=323'>324</a>\u001b[0m     ), \u001b[39mTrue\u001b[39;00m\n\u001b[1;32m    <a href='file:///opt/homebrew/Caskroom/miniconda/base/lib/python3.9/site-packages/openai/api_requestor.py?line=324'>325</a>\u001b[0m \u001b[39melse\u001b[39;00m:\n\u001b[1;32m    <a href='file:///opt/homebrew/Caskroom/miniconda/base/lib/python3.9/site-packages/openai/api_requestor.py?line=325'>326</a>\u001b[0m     \u001b[39mreturn\u001b[39;00m (\n\u001b[0;32m--> <a href='file:///opt/homebrew/Caskroom/miniconda/base/lib/python3.9/site-packages/openai/api_requestor.py?line=326'>327</a>\u001b[0m         \u001b[39mself\u001b[39;49m\u001b[39m.\u001b[39;49m_interpret_response_line(\n\u001b[1;32m    <a href='file:///opt/homebrew/Caskroom/miniconda/base/lib/python3.9/site-packages/openai/api_requestor.py?line=327'>328</a>\u001b[0m             result\u001b[39m.\u001b[39;49mcontent, result\u001b[39m.\u001b[39;49mstatus_code, result\u001b[39m.\u001b[39;49mheaders, stream\u001b[39m=\u001b[39;49m\u001b[39mFalse\u001b[39;49;00m\n\u001b[1;32m    <a href='file:///opt/homebrew/Caskroom/miniconda/base/lib/python3.9/site-packages/openai/api_requestor.py?line=328'>329</a>\u001b[0m         ),\n\u001b[1;32m    <a href='file:///opt/homebrew/Caskroom/miniconda/base/lib/python3.9/site-packages/openai/api_requestor.py?line=329'>330</a>\u001b[0m         \u001b[39mFalse\u001b[39;00m,\n\u001b[1;32m    <a href='file:///opt/homebrew/Caskroom/miniconda/base/lib/python3.9/site-packages/openai/api_requestor.py?line=330'>331</a>\u001b[0m     )\n",
      "File \u001b[0;32m/opt/homebrew/Caskroom/miniconda/base/lib/python3.9/site-packages/openai/api_requestor.py:360\u001b[0m, in \u001b[0;36mAPIRequestor._interpret_response_line\u001b[0;34m(self, rbody, rcode, rheaders, stream)\u001b[0m\n\u001b[1;32m    <a href='file:///opt/homebrew/Caskroom/miniconda/base/lib/python3.9/site-packages/openai/api_requestor.py?line=357'>358</a>\u001b[0m stream_error \u001b[39m=\u001b[39m stream \u001b[39mand\u001b[39;00m \u001b[39m\"\u001b[39m\u001b[39merror\u001b[39m\u001b[39m\"\u001b[39m \u001b[39min\u001b[39;00m resp\u001b[39m.\u001b[39mdata\n\u001b[1;32m    <a href='file:///opt/homebrew/Caskroom/miniconda/base/lib/python3.9/site-packages/openai/api_requestor.py?line=358'>359</a>\u001b[0m \u001b[39mif\u001b[39;00m stream_error \u001b[39mor\u001b[39;00m \u001b[39mnot\u001b[39;00m \u001b[39m200\u001b[39m \u001b[39m<\u001b[39m\u001b[39m=\u001b[39m rcode \u001b[39m<\u001b[39m \u001b[39m300\u001b[39m:\n\u001b[0;32m--> <a href='file:///opt/homebrew/Caskroom/miniconda/base/lib/python3.9/site-packages/openai/api_requestor.py?line=359'>360</a>\u001b[0m     \u001b[39mraise\u001b[39;00m \u001b[39mself\u001b[39m\u001b[39m.\u001b[39mhandle_error_response(\n\u001b[1;32m    <a href='file:///opt/homebrew/Caskroom/miniconda/base/lib/python3.9/site-packages/openai/api_requestor.py?line=360'>361</a>\u001b[0m         rbody, rcode, resp\u001b[39m.\u001b[39mdata, rheaders, stream_error\u001b[39m=\u001b[39mstream_error\n\u001b[1;32m    <a href='file:///opt/homebrew/Caskroom/miniconda/base/lib/python3.9/site-packages/openai/api_requestor.py?line=361'>362</a>\u001b[0m     )\n\u001b[1;32m    <a href='file:///opt/homebrew/Caskroom/miniconda/base/lib/python3.9/site-packages/openai/api_requestor.py?line=362'>363</a>\u001b[0m \u001b[39mreturn\u001b[39;00m resp\n",
      "\u001b[0;31mRateLimitError\u001b[0m: Rate limit reached for default-text-davinci-edit-001. Limit: 20.000000 / min. Current: 24.000000 / min. Contact support@openai.com if you continue to have issues."
     ]
    }
   ],
   "source": [
    "import json\n",
    "\n",
    "random.shuffle(nouns)\n",
    "random.shuffle(phrases)\n",
    "data = []\n",
    "for noun, phrase in list(zip(nouns, phrases)):\n",
    "    new = replace(noun.text, phrase, noun.doc.text)\n",
    "    data.append(dict(x=noun.doc.text,replace=noun.text,replace_with=phrase,y=new))\n",
    "    with open(\"training_data.json\", \"w\") as f:\n",
    "        json.dump(data, f, indent=2, ensure_ascii=False)\n"
   ]
  }
 ],
 "metadata": {
  "interpreter": {
   "hash": "0f7285e6acb6b60d535c755c4e13fa3e6935e0a38fabfc0ab42f78f3310ba016"
  },
  "kernelspec": {
   "display_name": "Python 3.9.12 64-bit ('base')",
   "language": "python",
   "name": "python3"
  },
  "language_info": {
   "codemirror_mode": {
    "name": "ipython",
    "version": 3
   },
   "file_extension": ".py",
   "mimetype": "text/x-python",
   "name": "python",
   "nbconvert_exporter": "python",
   "pygments_lexer": "ipython3",
   "version": "3.9.12"
  },
  "orig_nbformat": 4
 },
 "nbformat": 4,
 "nbformat_minor": 2
}
