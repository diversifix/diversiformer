{
 "cells": [
  {
   "cell_type": "code",
   "execution_count": 1,
   "metadata": {},
   "outputs": [],
   "source": [
    "import tarfile\n",
    "import urllib.request\n",
    "url = \"http://pcai056.informatik.uni-leipzig.de/downloads/corpora/deu_wikipedia_2021_10K.tar.gz\"\n",
    "with urllib.request.urlopen(url) as f:\n",
    "    stream = urllib.request.urlopen(url)\n",
    "    f = tarfile.open(fileobj=stream, mode=\"r|gz\")\n",
    "    f.extractall()\n"
   ]
  },
  {
   "cell_type": "code",
   "execution_count": 2,
   "metadata": {},
   "outputs": [
    {
     "data": {
      "text/plain": [
       "['Die Enkel Benedict und Lucas Steiner führen das Architekturbüro von Joseph Steiner weiter.',\n",
       " 'Ein älterer Bruder Rudi (geb. 1928) und eine jüngere Schwester Gerti (geb. 1940) wuchsen mit ihm in finanziell ärmlichen Verhältnissen, aber unter dem Eindruck politisch agierender Eltern auf.',\n",
       " 'Bei lackiertem Holz sowie lackierten Vasen oder Pokalen kann die Lackierung abplatzen.',\n",
       " 'Die Startmasse war auf 16,259 Tonnen festgelegt.',\n",
       " 'Während der Ost-West-Konfrontation beteiligte sich die italienische Marine an verschiedenen anderen Einsätzen.']"
      ]
     },
     "execution_count": 2,
     "metadata": {},
     "output_type": "execute_result"
    }
   ],
   "source": [
    "import random\n",
    "with open(\"deu_wikipedia_2021_10K/deu_wikipedia_2021_10K-sentences.txt\", \"r\") as f:\n",
    "    lines = f.read().split(\"\\n\")[:-1]\n",
    "    sents = [l.split(\"\\t\")[1] for l in lines]\n",
    "    random.shuffle(sents)\n",
    "sents[:5]"
   ]
  },
  {
   "cell_type": "code",
   "execution_count": 3,
   "metadata": {},
   "outputs": [
    {
     "name": "stderr",
     "output_type": "stream",
     "text": [
      "/opt/homebrew/Caskroom/miniconda/base/lib/python3.9/site-packages/torch/autocast_mode.py:162: UserWarning: User provided device_type of 'cuda', but CUDA is not available. Disabling\n",
      "  warnings.warn('User provided device_type of \\'cuda\\', but CUDA is not available. Disabling')\n"
     ]
    }
   ],
   "source": [
    "import de_dep_news_trf\n",
    "from itertools import chain\n",
    "nlp = de_dep_news_trf.load()\n",
    "def get_nouns(sent):\n",
    "    doc = nlp(sent)\n",
    "    return [w for w in doc if w.pos_ == \"NOUN\" and len(w.text) > 4]\n",
    "nouns = list(chain(*[get_nouns(s) for s in sents[:100]]))\n"
   ]
  },
  {
   "cell_type": "code",
   "execution_count": 4,
   "metadata": {},
   "outputs": [],
   "source": [
    "import re\n",
    "\n",
    "def is_range(l):\n",
    "    a = l[0]\n",
    "    for b in l[1:]:\n",
    "        if b - a != 1:\n",
    "            return False\n",
    "        a = b\n",
    "    return True\n",
    "\n",
    "def is_indefinite_nom(t):\n",
    "    if t.morph.get(\"Case\") == [\"Nom\"]:\n",
    "        in_sing = any([c.lemma_ in [\"ein\", \"einen\"] for c in t.children])\n",
    "        in_plur = not any(c.lemma_ in [\"der\"] for c in t.children)\n",
    "        return in_sing or in_plur\n",
    "    return False\n",
    "\n",
    "def is_article(parent, t):\n",
    "    return t.head == parent and t.lemma_ in [\"der\", \"ein\", \"einen\"]\n",
    "\n",
    "def get_phrase(noun):\n",
    "    if all([t.is_alpha for t in noun.subtree]) \\\n",
    "        and is_indefinite_nom(noun) \\\n",
    "        and is_range(sorted([t.i for t in noun.subtree])):\n",
    "        ts = [t.text_with_ws for t in noun.subtree if not is_article(noun, t)]\n",
    "        return re.sub(r\"[^a-zäöÜA-ZÄÖÜ]+$\", \"\", \"\".join(ts))\n",
    "    return None\n",
    "\n",
    "phrases = [phrase for noun in nouns if (phrase := get_phrase(noun)) is not None]"
   ]
  },
  {
   "cell_type": "code",
   "execution_count": 5,
   "metadata": {},
   "outputs": [
    {
     "data": {
      "text/plain": [
       "['Ganzjahreszeit',\n",
       " 'Diese Hartkekse',\n",
       " 'tellergroße Scheiben',\n",
       " 'Moskauer Brücke',\n",
       " 'Informatik oder Religionslehre',\n",
       " 'Leistungskurs',\n",
       " 'Deutsch oder eine Fremdsprache und Mathematik oder eine Naturwissenschaft',\n",
       " 'Fremdsprache und Mathematik oder eine Naturwissenschaft',\n",
       " 'Mathematik oder eine Naturwissenschaft',\n",
       " 'Naturwissenschaft']"
      ]
     },
     "execution_count": 5,
     "metadata": {},
     "output_type": "execute_result"
    }
   ],
   "source": [
    "phrases[:10]"
   ]
  },
  {
   "cell_type": "code",
   "execution_count": 6,
   "metadata": {},
   "outputs": [],
   "source": [
    "%load_ext dotenv\n",
    "%dotenv\n",
    "import os\n",
    "import openai\n",
    "\n",
    "openai.api_key = os.getenv(\"OPENAI_API_KEY\")\n",
    "\n",
    "def replace(a, b, sent):\n",
    "    response = openai.Edit.create(\n",
    "    engine=\"text-davinci-edit-001\",\n",
    "    input=sent,\n",
    "    instruction=f\"Ersetze \\\"{a}\\\" durch \\\"{b}\\\". Passe die Grammatik entsprechend an.\",\n",
    "    temperature=0,\n",
    "    top_p=1\n",
    "    )\n",
    "    return response[\"choices\"][0][\"text\"]"
   ]
  },
  {
   "cell_type": "code",
   "execution_count": 7,
   "metadata": {},
   "outputs": [],
   "source": [
    "from functools import lru_cache\n",
    "\n",
    "@lru_cache(maxsize=None)\n",
    "def replace_batch(l):\n",
    "    inputs = [f\"({i})\\nOriginal: {noun.doc.text}\\nMit Ersetzung: ___\\n\" for i, (noun, _) in enumerate(l)]\n",
    "    instructions = [f\"({i}) Ersetze {noun.text} durch {phrase}. Passe die Grammatik entsprechend an.\\n\" for i, (noun, phrase) in enumerate(l)]\n",
    "    response = openai.Edit.create(\n",
    "    engine=\"text-davinci-edit-001\",\n",
    "    input=\"\\n\".join(inputs),\n",
    "    instruction=\"\\n\".join(instructions),\n",
    "    temperature=0,\n",
    "    top_p=1\n",
    "    )\n",
    "    replaceds = re.findall(r\"Mit Ersetzung: (.*)\\n\", response[\"choices\"][0][\"text\"])\n",
    "    return [dict(x=noun.doc.text,replace=noun.text,replace_with=phrase,y=replaced) for replaced, (noun, phrase) in zip(replaceds, l)]"
   ]
  },
  {
   "cell_type": "code",
   "execution_count": 8,
   "metadata": {},
   "outputs": [
    {
     "name": "stdout",
     "output_type": "stream",
     "text": [
      "huggingface/tokenizers: The current process just got forked, after parallelism has already been used. Disabling parallelism to avoid deadlocks...\n",
      "To disable this warning, you can either:\n",
      "\t- Avoid using `tokenizers` before the fork if possible\n",
      "\t- Explicitly set the environment variable TOKENIZERS_PARALLELISM=(true | false)\n"
     ]
    },
    {
     "data": {
      "application/vnd.jupyter.widget-view+json": {
       "model_id": "27bae2e804a540aa8c155d496369f87a",
       "version_major": 2,
       "version_minor": 0
      },
      "text/plain": [
       "  0%|          | 0/7 [00:00<?, ?it/s]"
      ]
     },
     "metadata": {},
     "output_type": "display_data"
    },
    {
     "name": "stdout",
     "output_type": "stream",
     "text": [
      "[{'x': 'Ein älterer Bruder Rudi (geb. 1928) und eine jüngere Schwester Gerti (geb. 1940) wuchsen mit ihm in finanziell ärmlichen Verhältnissen, aber unter dem Eindruck politisch agierender Eltern auf.', 'replace': 'Bruder', 'replace_with': 'Diese Hartkekse', 'y': 'Ein älterer Diese Hartkekse (geb. 1928) und eine jüngere Schwester Gerti (geb. 1940) wuchsen mit ihm in finanziell ärmlichen Verhältnissen, aber unter dem Eindruck politisch agierender Eltern auf.'}, {'x': 'Der botanische Garten Paradiso lädt zu ausgedehnten Spaziergängen ein, die besonders im Frühjahr reizvoll sind und die von dem hohen Felsen einen schönen Blick über die Stadt bieten.', 'replace': 'Blick', 'replace_with': 'Mathematik oder eine Naturwissenschaft', 'y': 'Der botanische Garten Paradiso lädt zu ausgedehnten Spaziergängen ein, die besonders im Frühjahr reizvoll sind und die von dem hohen Felsen einen schönen Mathematik oder eine Naturwissenschaft bieten.'}, {'x': 'Ein älterer Bruder Rudi (geb. 1928) und eine jüngere Schwester Gerti (geb. 1940) wuchsen mit ihm in finanziell ärmlichen Verhältnissen, aber unter dem Eindruck politisch agierender Eltern auf.', 'replace': 'Verhältnissen', 'replace_with': 'Diese Quellen und die Empathie zu ihren Figuren und ihrem Land', 'y': 'Ein älterer Bruder Rudi (geb. 1928) und eine jüngere Schwester Gerti (geb. 1940) wuchsen mit ihm in finanziell ärmlichen Verhältnissen, aber unter dem Eindruck politisch agierender Eltern auf.'}, {'x': 'Diese Hartkekse enthielten aus Gründen der besseren Haltbarkeit jedoch weder Zucker noch Fett und waren flache, harte Tafeln oder tellergroße Scheiben, die nur nach Eintauchen in Flüssigkeit genießbar waren.', 'replace': 'Tafeln', 'replace_with': 'einige Musiker', 'y': 'Diese Hartkekse enthielten aus Gründen der besseren Haltbarkeit jedoch weder Zucker noch Fett und waren flache, harte Tafeln oder tellergroße Scheiben, die nur nach Eintauchen in Flüssigkeit genießbar waren.'}, {'x': 'Auch hier wird eine Bildung in Abwesenheit von H 2 O bei 8,5 bis 9 kbar und 930 bis 980 °C angenommen.', 'replace': 'Bildung', 'replace_with': 'Naturwissenschaft', 'y': 'Auch hier wird eine Naturwissenschaft in Abwesenheit von H 2 O bei 8,5 bis 9 kbar und 930 bis 980 °C angenommen.'}]\n",
      "[{'x': 'Lübeck erreichte den Aufstieg in die Oberliga Nord.', 'replace': 'Aufstieg', 'replace_with': 'Viele preiswerte Webhoster', 'y': 'Viele preiswerte Webhoster erreichten den Aufstieg in die Oberliga Nord.'}, {'x': 'Nach einem Gesetzesentwurf des Europäischen Rates und des Europäischen Parlaments vom Mai 2016 wurden die Schulmilch- und Schulobstprogramme der EU ab August 2017 zusammengeführt und finanziell stärker unterstützt.', 'replace': 'Schulobstprogramme', 'replace_with': 'Fremdsprache und Mathematik oder eine Naturwissenschaft', 'y': 'Nach einem Gesetzesentwurf des Europäischen Rates und des Europäischen Parlaments vom Mai 2016 wurden die Schulmilch- und Schulobstprogramme der EU ab August 2017 zusammengeführt und finanziell stärker unterstützt.'}, {'x': 'Er war beeindruckt von der Macht, die die Katholische Kirche über die Gläubigen hat, und er sah, mit welcher Sorgfalt die Kirche verhinderte, dass die Religion der Intellektuellen sich zu stark von der Religion der Ungebildeten entfernen konnte.', 'replace': 'Kirche', 'replace_with': 'tellergroße Scheiben', 'y': 'Er war beeindruckt von der Macht, die die Katholische Kirche über die Gläubigen hat, und er sah, mit welcher Sorgfalt die Kirche verhinderte, dass die Religion der Intellektuellen sich zu stark von der Religion der Ungebildeten entfernen konnte.'}, {'x': 'Auch hier wird eine Bildung in Abwesenheit von H 2 O bei 8,5 bis 9 kbar und 930 bis 980 °C angenommen.', 'replace': 'Abwesenheit', 'replace_with': 'Bens Beziehung hingegen', 'y': 'Auch hier wird eine Bildung in Abwesenheit von H 2 O bei 8,5 bis 9 kbar und 930 bis 980 °C angenommen.'}, {'x': 'Von den drei Spielflächen ist die Hauptbühne mit 1358 Sitzplätzen für das Publikum die größte.', 'replace': 'Sitzplätzen', 'replace_with': 'stellvertretender Leiter der Abteilung Geschichte der deutschen Arbeiterbewegung', 'y': 'Von den drei Spielflächen ist die Hauptbühne mit 1358 Sitzplätzen für das Publikum die größte.'}]\n",
      "[{'x': 'Als Matthias Anker (1788–1863) aufgrund einer Erkrankung die Direktion des Berner Tierspitals aufgab, übernahm Johann Jakob Rychner deren Direktion und nach dessen Tod auch einen Grossteil von den Funktionen, so die Leitung der Hufbeschlagschule.', 'replace': 'Direktion', 'replace_with': 'Ein Höchststand', 'y': 'Als Matthias Anker (1788–1863) aufgrund einer Erkrankung die Ein Höchststand des Berner Tierspitals aufgab, übernahm Johann Jakob Rychner deren Ein Höchststand und nach dessen Tod auch einen Grossteil von den Funktionen, so die Leitung der Hufbeschlagschule.'}, {'x': 'Viele preiswerte Webhoster stellen ein betriebsbereites SquirrelMail als Standard-Webmail zur Verfügung oder bieten es zur automatischen Installation an.', 'replace': 'Verfügung', 'replace_with': 'Moskauer Brücke', 'y': 'Viele preiswerte Webhoster stellen ein betriebsbereites SquirrelMail als Standard-Webmail zur Moskauer Brücke oder bieten es zur automatischen Installation an.'}, {'x': 'Nachdem sie allen Schuldnern geholfen haben, anstatt abzukassieren, wollen sie eine Bank überfallen.', 'replace': 'Schuldnern', 'replace_with': 'Einfamilienhäuser', 'y': 'Nachdem sie allen Einfamilienhäuser geholfen haben, anstatt abzukassieren, wollen sie eine Bank überfallen.'}, {'x': 'Mit ihm kehrte in der Saison 1951/52 wieder in die Oberliga zurück, wobei er mit 16 von 22 Ligaspielen und wieder sechs Tore beteiligt war.', 'replace': 'Ligaspielen', 'replace_with': 'Vorsitzender', 'y': 'Mit ihm kehrte in der Saison 1951/52 wieder in die Oberliga zurück, wobei er mit 16 von 22 Vorsitzender und wieder sechs Tore beteiligt war.'}, {'x': '»Seine Praktiker müssen Unabhängigkeit von ihren Veröffentlichungen behalten«', 'replace': 'Unabhängigkeit', 'replace_with': 'Deutsch oder eine Fremdsprache und Mathematik oder eine Naturwissenschaft', 'y': '»Seine Praktiker müssen Deutsch oder eine Fremdsprache und Mathematik oder eine Naturwissenschaft von ihren Veröffentlichungen behalten«'}]\n",
      "[{'x': 'Diese Hartkekse enthielten aus Gründen der besseren Haltbarkeit jedoch weder Zucker noch Fett und waren flache, harte Tafeln oder tellergroße Scheiben, die nur nach Eintauchen in Flüssigkeit genießbar waren.', 'replace': 'Flüssigkeit', 'replace_with': 'Weingroßhandlung und Schaumweinkellerei', 'y': 'Diese Hartkekse enthielten aus Gründen der besseren Haltbarkeit jedoch weder Zucker noch Fett und waren flache, harte Tafeln oder tellergroße Scheiben, die nur nach Eintauchen in Weingroßhandlung und Schaumweinkellerei genießbar waren.'}, {'x': 'J. Höbarth, der die Fundstelle weiterhin beobachten wollte, wurde mit einem Grabungsverbot belegt.', 'replace': 'Fundstelle', 'replace_with': 'Leistungskurs', 'y': 'J. Höbarth, der die Leistungskurs weiterhin beobachten wollte, wurde mit einem Grabungsverbot belegt.'}, {'x': 'Am 18. Oktober verkündete Ministerpräsident Conte zum dritten Mal innerhalb von zwei Wochen neue oder verschärfte Maßnahmen im Kampf gegen COVID-19.', 'replace': 'Wochen', 'replace_with': 'Manche Texte', 'y': 'Am 18. Oktober verkündete Ministerpräsident Conte zum dritten Mal innerhalb von zwei Manche Texte neue oder verschärfte Maßnahmen im Kampf gegen COVID-19.'}, {'x': 'Die Gestaltung des östlichen Abschlusses der Kirche und die oval- und rundbogigen Fenster rühren von Umbauten her, die zwischen dem 17. und 18. Jahrhundert vorgenommen wurden.', 'replace': 'Fenster', 'replace_with': 'Informatik oder Religionslehre', 'y': 'Die Gestaltung des östlichen Abschlusses der Kirche und die oval- und rundbogigen Informatik oder Religionslehre rühren von Umbauten her, die zwischen dem 17. und 18. Jahrhundert vorgenommen wurden.'}, {'x': 'Diese Hartkekse enthielten aus Gründen der besseren Haltbarkeit jedoch weder Zucker noch Fett und waren flache, harte Tafeln oder tellergroße Scheiben, die nur nach Eintauchen in Flüssigkeit genießbar waren.', 'replace': 'Zucker', 'replace_with': 'Geschichte', 'y': 'Diese Hartkekse enthielten aus Gründen der besseren Haltbarkeit jedoch weder Geschichte noch Fett und waren flache, harte Tafeln oder tellergroße Scheiben, die nur nach Eintauchen in Flüssigkeit genießbar waren.'}]\n",
      "[{'x': 'Die Stammstrecke der Kleinbahn wurde von Velgast am 23. November 1894 bis Ravenhorst und ab 19. Mai 1895 zum Endpunkt in Tribsees eröffnet.', 'replace': 'Stammstrecke', 'replace_with': 'Kriminalsekretär', 'y': 'Der Kriminalsekretär der Kleinbahn wurde von Velgast am 23. November 1894 bis Ravenhorst und ab 19. Mai 1895 zum Endpunkt in Tribsees eröffnet.'}, {'x': 'Ashley war gerade auf dem Weg zu ihrer Hochzeit, Bens Beziehung hingegen ist am Ende, doch sie beginnt sich mehr und mehr zu ihm hingezogen zu fühlen.', 'replace': 'Beziehung', 'replace_with': 'Seine Praktiker', 'y': 'Ashley war gerade auf dem Weg zu ihrer Hochzeit, Bens Seine Praktiker hingegen ist am Ende, doch sie beginnt sich mehr und mehr zu ihm hingezogen zu fühlen.'}, {'x': 'Bei lackiertem Holz sowie lackierten Vasen oder Pokalen kann die Lackierung abplatzen.', 'replace': 'Pokalen', 'replace_with': 'zwei konkurrierende Forscherteams in Rom und in Neapel', 'y': 'Bei lackiertem Holz sowie lackierten Vasen oder zwei konkurrierende Forscherteams in Rom und in Neapel kann die Lackierung abplatzen.'}, {'x': 'Als Matthias Anker (1788–1863) aufgrund einer Erkrankung die Direktion des Berner Tierspitals aufgab, übernahm Johann Jakob Rychner deren Direktion und nach dessen Tod auch einen Grossteil von den Funktionen, so die Leitung der Hufbeschlagschule.', 'replace': 'Erkrankung', 'replace_with': 'Bischof Gegg', 'y': 'Als Matthias Anker (1788–1863) aufgrund von Bischof Gegg die Direktion des Berner Tierspitals aufgab, übernahm Johann Jakob Rychner deren Direktion und nach dessen Tod auch einen Grossteil von den Funktionen, so die Leitung der Hufbeschlagschule.'}, {'x': 'Bischof Gegg reiste zum Fest „Kreuzauffindung“ (3. Mai) 1719 in die zum Bistum Worms gehörende Stadt, weihte die umgebaute Kirche ein und eröffnete selbst die Wallfahrt, die bis heute noch immer blüht.', 'replace': 'Bischof', 'replace_with': 'Kandidatin der CSU', 'y': 'Kandidatin der CSU Gegg reiste zum Fest „Kreuzauffindung“ (3. Mai) 1719 in die zum Bistum Worms gehörende Stadt, weihte die umgebaute Kirche ein und eröffnete selbst die Wallfahrt, die bis heute noch immer blüht.'}]\n",
      "[{'x': 'In der Kirche von Fürfeld, über die er das Patronatsrecht ausübte, sind die Anfänge der reformatorischen Predigt für das Jahr 1521 bezeugt.', 'replace': 'Anfänge', 'replace_with': 'zahlreiche kulturelle und religiöse Einrichtungen der verschiedenen Nationalitäten und Glaubensrichtungen', 'y': 'In der Kirche von Fürfeld, über die er das Patronatsrecht ausübte, sind zahlreiche kulturelle und religiöse Einrichtungen der verschiedenen Nationalitäten und Glaubensrichtungen für das Jahr 1521 bezeugt.'}, {'x': 'Die Kritiken in der englischen Presse waren durch die gewandelte Musikszene (', 'replace': 'Presse', 'replace_with': 'ordentliches Mitglied', 'y': 'Die Kritiken in der englischen Presse waren durch das ordentliche Mitglied ( '}, {'x': 'Ist der Dämpfer voll entfaltet, wird die restliche Fallenergie durch das Band selbst und den Körper der gestürzten Person absorbiert.', 'replace': 'Körper', 'replace_with': 'Ganzjahreszeit', 'y': 'Ist der Dämpfer voll entfaltet, wird die restliche Fallenergie durch das Band selbst und die Ganzjahreszeit der gestürzten Person absorbiert.'}, {'x': 'Die Eier werden auf der Oberseite der Blätter oder an den Stielen der Nahrungspflanze abgelegt.', 'replace': 'Stielen', 'replace_with': 'Ministerpräsident Conte', 'y': 'Die Eier werden auf der Oberseite der Blätter oder an Ministerpräsident Conte der Nahrungspflanze abgelegt.'}, {'x': 'Ist der Dämpfer voll entfaltet, wird die restliche Fallenergie durch das Band selbst und den Körper der gestürzten Person absorbiert.', 'replace': 'Fallenergie', 'replace_with': 'kein weiterer Absteiger', 'y': 'Ist der Dämpfer voll entfaltet, wird die restliche Fallenergie durch das Band selbst und den Körper der gestürzten Person absorbiert.'}]\n",
      "[{'x': 'Sputnik verfügte über einen Sender von 1 Watt Leistung, der abwechselnd auf 20,005 und 40,002 MHz kurze Signale sendete, die Aufschluss über Temperatur und Druck gaben.', 'replace': 'Sender', 'replace_with': 'Wohngebiet', 'y': 'Sputnik verfügte über ein Wohngebiet von 1 Watt Leistung, das abwechselnd auf 20,005 und 40,002 MHz kurze Signale sendete, die Aufschluss über Temperatur und Druck gaben.'}, {'x': 'Dazu hat er 2000 sein Buch Laughter: A Scientific Investigation veröffentlicht, worin er unter anderem die Gründe für das Lachen und die Funktion des Lachens untersucht.', 'replace': 'Gründe', 'replace_with': 'Andere Pisoide', 'y': 'Dazu hat er 2000 sein Buch Laughter: A Scientific Investigation veröffentlicht, worin er unter anderem die Andere Pisoide für das Lachen und die Funktion des Lachens untersucht.'}, {'x': 'Daraufhin zog er sich noch 1920 als Kriminalsekretär i. R. ins Privatleben zurück.', 'replace': 'Privatleben', 'replace_with': 'Beratungsassistentin', 'y': 'Daraufhin zog er sich noch 1920 als Kriminalsekretär i. R. ins Beratungsassistentin zurück.'}]\n"
     ]
    }
   ],
   "source": [
    "import json\n",
    "from tqdm.notebook import tqdm\n",
    "\n",
    "random.shuffle(nouns)\n",
    "random.shuffle(phrases)\n",
    "data = []\n",
    "\n",
    "def chunks(l, n):\n",
    "    \"\"\"\n",
    "    Yield successive n-sized chunks from l.\n",
    "    from https://stackoverflow.com/q/312443/10190810\n",
    "    \"\"\"\n",
    "    for i in range(0, len(l), n):\n",
    "        yield l[i:i + n]\n",
    "\n",
    "training_data = []\n",
    "for chunk in tqdm(list(chunks(list(zip(nouns, phrases)), 5))):\n",
    "    res = replace_batch(tuple(chunk))\n",
    "    print(res)\n",
    "    training_data = list(chain(training_data, res)) \n",
    "    with open(\"training_data.json\", \"w\") as f:\n",
    "        json.dump(training_data, f, indent=2, ensure_ascii=False)\n"
   ]
  },
  {
   "cell_type": "code",
   "execution_count": 9,
   "metadata": {},
   "outputs": [
    {
     "data": {
      "text/plain": [
       "33"
      ]
     },
     "execution_count": 9,
     "metadata": {},
     "output_type": "execute_result"
    }
   ],
   "source": [
    "len(training_data)"
   ]
  },
  {
   "cell_type": "code",
   "execution_count": null,
   "metadata": {},
   "outputs": [],
   "source": []
  }
 ],
 "metadata": {
  "interpreter": {
   "hash": "0f7285e6acb6b60d535c755c4e13fa3e6935e0a38fabfc0ab42f78f3310ba016"
  },
  "kernelspec": {
   "display_name": "Python 3.9.12 64-bit ('base')",
   "language": "python",
   "name": "python3"
  },
  "language_info": {
   "codemirror_mode": {
    "name": "ipython",
    "version": 3
   },
   "file_extension": ".py",
   "mimetype": "text/x-python",
   "name": "python",
   "nbconvert_exporter": "python",
   "pygments_lexer": "ipython3",
   "version": "3.9.12"
  },
  "orig_nbformat": 4
 },
 "nbformat": 4,
 "nbformat_minor": 2
}
