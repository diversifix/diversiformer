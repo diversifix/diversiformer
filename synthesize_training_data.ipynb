{
 "cells": [
  {
   "cell_type": "code",
   "execution_count": 1,
   "metadata": {},
   "outputs": [],
   "source": [
    "import tarfile\n",
    "import urllib.request\n",
    "url = \"http://pcai056.informatik.uni-leipzig.de/downloads/corpora/deu_wikipedia_2021_10K.tar.gz\"\n",
    "with urllib.request.urlopen(url) as f:\n",
    "    stream = urllib.request.urlopen(url)\n",
    "    f = tarfile.open(fileobj=stream, mode=\"r|gz\")\n",
    "    f.extractall()\n"
   ]
  },
  {
   "cell_type": "code",
   "execution_count": 2,
   "metadata": {},
   "outputs": [
    {
     "data": {
      "text/plain": [
       "['Gemeinsam mit Inspektor Kemp, einem ehemaligen Schüler des aus anderen Christie-Romanen bekannten Inspektor Battle, untersucht er nun die Todesfälle.',\n",
       " 'Im Juni 2020 wurde die modernisierte Version M-84AS1 vorgestellt.',\n",
       " 'In Großbritannien erfreute sich Metternich ungeachtet des deutsch-kritischen Klimas großen Ansehens.',\n",
       " 'Gertrud von le Fort teilt weder irgendeine Jahreszahl noch den Namen des Königs mit.',\n",
       " 'In Rio unterstützt EBX Sport-, Bewirtungs-, Gastronomie-, Gesundheits- und Schönheitsinitiativen.']"
      ]
     },
     "execution_count": 2,
     "metadata": {},
     "output_type": "execute_result"
    }
   ],
   "source": [
    "import random\n",
    "random.seed(45394)\n",
    "with open(\"deu_wikipedia_2021_10K/deu_wikipedia_2021_10K-sentences.txt\", \"r\") as f:\n",
    "    lines = f.read().split(\"\\n\")[:-1]\n",
    "    sents = [l.split(\"\\t\")[1] for l in lines]\n",
    "    random.shuffle(sents)\n",
    "sents[:5]"
   ]
  },
  {
   "cell_type": "code",
   "execution_count": 3,
   "metadata": {},
   "outputs": [
    {
     "name": "stderr",
     "output_type": "stream",
     "text": [
      "/opt/homebrew/Caskroom/miniconda/base/lib/python3.9/site-packages/torch/autocast_mode.py:162: UserWarning: User provided device_type of 'cuda', but CUDA is not available. Disabling\n",
      "  warnings.warn('User provided device_type of \\'cuda\\', but CUDA is not available. Disabling')\n"
     ]
    }
   ],
   "source": [
    "import de_dep_news_trf\n",
    "from itertools import chain\n",
    "nlp = de_dep_news_trf.load()\n",
    "def get_nouns(sent):\n",
    "    doc = nlp(sent)\n",
    "    return [(doc, w.i) for w in doc if w.pos_ == \"NOUN\" and len(w.text) > 4]\n",
    "nouns = list(chain(*[get_nouns(s) for s in sents[:100]]))\n"
   ]
  },
  {
   "cell_type": "code",
   "execution_count": 4,
   "metadata": {},
   "outputs": [],
   "source": [
    "import re\n",
    "\n",
    "def is_range(l):\n",
    "    a = l[0]\n",
    "    for b in l[1:]:\n",
    "        if b - a != 1:\n",
    "            return False\n",
    "        a = b\n",
    "    return True\n",
    "\n",
    "def is_indefinite_nom(t):\n",
    "    if t.morph.get(\"Case\") == [\"Nom\"]:\n",
    "        in_sing = any([c.lemma_ in [\"ein\", \"einen\"] for c in t.children])\n",
    "        in_plur = not any(c.lemma_ in [\"der\"] for c in t.children)\n",
    "        return in_sing or in_plur\n",
    "    return False\n",
    "\n",
    "def is_article(parent, t):\n",
    "    return t.head == parent and t.lemma_ in [\"der\", \"ein\", \"einen\"]\n",
    "\n",
    "def get_phrase(doc_and_i):\n",
    "    doc, i = doc_and_i\n",
    "    noun = doc[i]\n",
    "    if all([t.is_alpha for t in noun.subtree]) \\\n",
    "        and list(noun.subtree)[0].i > 0 \\\n",
    "        and len(list(noun.subtree)) <= 5 \\\n",
    "        and is_indefinite_nom(noun) \\\n",
    "        and is_range(sorted([t.i for t in noun.subtree])):\n",
    "        ts = [t.text_with_ws for t in noun.subtree if not is_article(noun, t)]\n",
    "        return re.sub(r\"[^a-zäöÜA-ZÄÖÜ]+$\", \"\", \"\".join(ts))\n",
    "    return None\n",
    "\n",
    "phrases = [phrase for noun in nouns if (phrase := get_phrase(noun)) is not None]"
   ]
  },
  {
   "cell_type": "code",
   "execution_count": 5,
   "metadata": {},
   "outputs": [
    {
     "data": {
      "text/plain": [
       "['neue Straßenerschließung',\n",
       " 'jahrhundertealte Gravuren',\n",
       " 'Bühne',\n",
       " 'Ausflugslokal',\n",
       " 'dieser Standort',\n",
       " 'mehrere vergebliche Versuche einer Rettung',\n",
       " 'Prinz Carl',\n",
       " 'strukturierter Promotionsstudiengang an der Universitätsmedizin',\n",
       " 'Taschenbuch',\n",
       " 'ihr Kürzel MPEG']"
      ]
     },
     "execution_count": 5,
     "metadata": {},
     "output_type": "execute_result"
    }
   ],
   "source": [
    "phrases[:10]"
   ]
  },
  {
   "cell_type": "code",
   "execution_count": 6,
   "metadata": {},
   "outputs": [],
   "source": [
    "from joblib import Memory\n",
    "memory = Memory(\".cache\", verbose=0)"
   ]
  },
  {
   "cell_type": "code",
   "execution_count": 7,
   "metadata": {},
   "outputs": [],
   "source": [
    "%load_ext dotenv\n",
    "%dotenv\n",
    "import os\n",
    "import openai\n",
    "\n",
    "openai.api_key = os.getenv(\"OPENAI_API_KEY\")\n",
    "\n",
    "@memory.cache\n",
    "def replace(a, b, sent):\n",
    "    response = openai.Edit.create(\n",
    "        engine=\"text-davinci-edit-001\",\n",
    "        input=sent,\n",
    "        instruction=f\"Ersetze \\\"{a}\\\" durch \\\"{b}\\\". Passe die Grammatik entsprechend an.\",\n",
    "        temperature=0,\n",
    "        top_p=1\n",
    "    )\n",
    "    return response[\"choices\"][0][\"text\"]"
   ]
  },
  {
   "cell_type": "code",
   "execution_count": 8,
   "metadata": {},
   "outputs": [],
   "source": [
    "@memory.cache\n",
    "def replace_batch(l):\n",
    "    inputs = [\n",
    "        f\"({k})\\nOriginal: {doc[i].doc.text}\\nMit Ersetzung: ___\\n\"\n",
    "        for k, ((doc, i), _) in enumerate(l)\n",
    "    ]\n",
    "    instructions = [\n",
    "        f\"({k}) Ersetze {doc[i].text} durch {phrase}. Passe die Grammatik entsprechend an.\\n\" \n",
    "        for k, ((doc, i), phrase) in enumerate(l)\n",
    "    ]\n",
    "    response = openai.Edit.create(\n",
    "        engine=\"text-davinci-edit-001\",\n",
    "        input=\"\\n\".join(inputs),\n",
    "        instruction=\"\\n\".join(instructions),\n",
    "        temperature=0,\n",
    "        top_p=1\n",
    "    )\n",
    "    replaceds = re.findall(r\"Mit Ersetzung: (.*)\\n\", response[\"choices\"][0][\"text\"])\n",
    "    return [\n",
    "        dict(x=doc[i].doc.text,replace=doc[i].text,replace_with=phrase,y=replaced)\n",
    "        for replaced, ((doc, i), phrase) in zip(replaceds, l)\n",
    "    ]"
   ]
  },
  {
   "cell_type": "code",
   "execution_count": 9,
   "metadata": {},
   "outputs": [
    {
     "name": "stdout",
     "output_type": "stream",
     "text": [
      "huggingface/tokenizers: The current process just got forked, after parallelism has already been used. Disabling parallelism to avoid deadlocks...\n",
      "To disable this warning, you can either:\n",
      "\t- Avoid using `tokenizers` before the fork if possible\n",
      "\t- Explicitly set the environment variable TOKENIZERS_PARALLELISM=(true | false)\n"
     ]
    },
    {
     "data": {
      "application/vnd.jupyter.widget-view+json": {
       "model_id": "2ba233beb5cd4f11a0d8fbd125842318",
       "version_major": 2,
       "version_minor": 0
      },
      "text/plain": [
       "  0%|          | 0/5 [00:00<?, ?it/s]"
      ]
     },
     "metadata": {},
     "output_type": "display_data"
    }
   ],
   "source": [
    "import json\n",
    "from tqdm.notebook import tqdm\n",
    "\n",
    "random.seed(659342)\n",
    "random.shuffle(nouns)\n",
    "random.shuffle(phrases)\n",
    "data = []\n",
    "\n",
    "def chunks(l, n):\n",
    "    \"\"\"\n",
    "    Yield successive n-sized chunks from l.\n",
    "    from https://stackoverflow.com/q/312443/10190810\n",
    "    \"\"\"\n",
    "    for i in range(0, len(l), n):\n",
    "        yield l[i:i + n]\n",
    "\n",
    "training_data = []\n",
    "for chunk in tqdm(list(chunks(list(zip(nouns, phrases)), 5))):\n",
    "    res = replace_batch(tuple(chunk))\n",
    "    training_data = list(chain(training_data, res)) \n",
    "    with open(\"training_data.json\", \"w\") as f:\n",
    "        json.dump(training_data, f, indent=2, ensure_ascii=False)\n"
   ]
  },
  {
   "cell_type": "code",
   "execution_count": 10,
   "metadata": {},
   "outputs": [
    {
     "data": {
      "text/plain": [
       "23"
      ]
     },
     "execution_count": 10,
     "metadata": {},
     "output_type": "execute_result"
    }
   ],
   "source": [
    "len(training_data)"
   ]
  },
  {
   "cell_type": "code",
   "execution_count": null,
   "metadata": {},
   "outputs": [],
   "source": []
  }
 ],
 "metadata": {
  "interpreter": {
   "hash": "0f7285e6acb6b60d535c755c4e13fa3e6935e0a38fabfc0ab42f78f3310ba016"
  },
  "kernelspec": {
   "display_name": "Python 3.9.12 64-bit ('base')",
   "language": "python",
   "name": "python3"
  },
  "language_info": {
   "codemirror_mode": {
    "name": "ipython",
    "version": 3
   },
   "file_extension": ".py",
   "mimetype": "text/x-python",
   "name": "python",
   "nbconvert_exporter": "python",
   "pygments_lexer": "ipython3",
   "version": "3.9.12"
  },
  "orig_nbformat": 4
 },
 "nbformat": 4,
 "nbformat_minor": 2
}
